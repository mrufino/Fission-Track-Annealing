{
 "cells": [
  {
   "cell_type": "code",
   "execution_count": 17,
   "id": "a514d689-ee5d-47e2-96ae-3f38c5508ffc",
   "metadata": {},
   "outputs": [
    {
     "ename": "ImportError",
     "evalue": "cannot import name 'fit_all_models' from 'src.model_fit' (G:\\My Drive\\Pós-Graduação\\Cronologia\\Python Scripts\\GitHub\\Fission-Track-Annealing\\src\\model_fit.py)",
     "output_type": "error",
     "traceback": [
      "\u001b[1;31m---------------------------------------------------------------------------\u001b[0m",
      "\u001b[1;31mImportError\u001b[0m                               Traceback (most recent call last)",
      "Cell \u001b[1;32mIn[17], line 13\u001b[0m\n\u001b[0;32m     11\u001b[0m \u001b[38;5;66;03m# 1. Imports\u001b[39;00m\n\u001b[0;32m     12\u001b[0m \u001b[38;5;28;01mfrom\u001b[39;00m \u001b[38;5;21;01msrc\u001b[39;00m\u001b[38;5;21;01m.\u001b[39;00m\u001b[38;5;21;01mdata_processing\u001b[39;00m \u001b[38;5;28;01mimport\u001b[39;00m load_and_process_data  \u001b[38;5;66;03m# <- nome correto da função\u001b[39;00m\n\u001b[1;32m---> 13\u001b[0m \u001b[38;5;28;01mfrom\u001b[39;00m \u001b[38;5;21;01msrc\u001b[39;00m\u001b[38;5;21;01m.\u001b[39;00m\u001b[38;5;21;01mmodel_fit\u001b[39;00m \u001b[38;5;28;01mimport\u001b[39;00m fit_all_models\n\u001b[0;32m     15\u001b[0m \u001b[38;5;66;03m# 2. Paths\u001b[39;00m\n\u001b[0;32m     16\u001b[0m data_file \u001b[38;5;241m=\u001b[39m root_dir \u001b[38;5;241m/\u001b[39m \u001b[38;5;124m\"\u001b[39m\u001b[38;5;124mdata\u001b[39m\u001b[38;5;124m\"\u001b[39m \u001b[38;5;241m/\u001b[39m \u001b[38;5;124m\"\u001b[39m\u001b[38;5;124mraw\u001b[39m\u001b[38;5;124m\"\u001b[39m \u001b[38;5;241m/\u001b[39m \u001b[38;5;124m\"\u001b[39m\u001b[38;5;124mDurangoDataR.txt\u001b[39m\u001b[38;5;124m\"\u001b[39m\n",
      "\u001b[1;31mImportError\u001b[0m: cannot import name 'fit_all_models' from 'src.model_fit' (G:\\My Drive\\Pós-Graduação\\Cronologia\\Python Scripts\\GitHub\\Fission-Track-Annealing\\src\\model_fit.py)"
     ]
    }
   ],
   "source": [
    "# notebooks/test_model_fit.ipynb\n",
    "\n",
    "# 0. Add root folder (parent of src/) to path\n",
    "import sys\n",
    "from pathlib import Path\n",
    "\n",
    "# Adiciona a raiz do projeto ao path (um nível acima da pasta notebooks/)\n",
    "root_dir = Path(\"..\").resolve()\n",
    "sys.path.append(str(root_dir))\n",
    "\n",
    "# 1. Imports\n",
    "from src.data_processing import load_and_process_data  # <- nome correto da função\n",
    "from src.model_fit import fit_all_models\n",
    "\n",
    "# 2. Paths\n",
    "data_file = root_dir / \"data\" / \"raw\" / \"DurangoDataR.txt\"\n",
    "output_file = root_dir / \"results\" / \"model_fit_summary_numeric.csv\"\n",
    "\n",
    "# 3. Load data\n",
    "df = load_and_process_data(data_file)  # <- função correta\n",
    "display(df.head())\n",
    "\n",
    "# 4. Fit models\n",
    "results_df = fit_all_models(df)\n",
    "\n",
    "# 5. Show output\n",
    "display(results_df)\n"
   ]
  }
 ],
 "metadata": {
  "kernelspec": {
   "display_name": "Python 3 (ipykernel)",
   "language": "python",
   "name": "python3"
  },
  "language_info": {
   "codemirror_mode": {
    "name": "ipython",
    "version": 3
   },
   "file_extension": ".py",
   "mimetype": "text/x-python",
   "name": "python",
   "nbconvert_exporter": "python",
   "pygments_lexer": "ipython3",
   "version": "3.13.0"
  }
 },
 "nbformat": 4,
 "nbformat_minor": 5
}
