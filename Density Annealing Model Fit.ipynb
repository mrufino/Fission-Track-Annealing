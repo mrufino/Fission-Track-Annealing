{
 "cells": [
  {
   "cell_type": "code",
   "execution_count": 124,
   "id": "deed0170-378e-42ce-ac08-2faec233cae6",
   "metadata": {},
   "outputs": [
    {
     "name": "stdout",
     "output_type": "stream",
     "text": [
      "    Sample  Time   Temp   RhoB  UrhoB   RhoR  UrhoR\n",
      "0      NaN     1    NaN  7.900  0.260  7.650  0.260\n",
      "1      NaN     1  241.0  6.240  0.170  6.150  0.170\n",
      "2      NaN     1  271.0  5.880  0.170  5.930  0.170\n",
      "3      NaN     1  301.0  5.370  0.160  5.360  0.160\n",
      "4      NaN     1  325.0  4.720  0.150  4.950  0.150\n",
      "5      NaN     1  340.0  3.920  0.140  4.380  0.150\n",
      "6      NaN     1  350.0  3.260  0.130  3.010  0.120\n",
      "7      NaN     1  360.0  1.700  0.090  1.290  0.080\n",
      "8      NaN     1  370.0  0.764  0.040  0.228  0.019\n",
      "9      NaN     1  380.0    NaN    NaN  0.110  0.015\n",
      "10     NaN     1    NaN  3.420  0.080  3.440  0.080\n",
      "11     NaN     1  216.0  3.110  0.080  3.270  0.080\n",
      "12     NaN     1  271.0  2.800  0.070  2.890  0.070\n",
      "13     NaN     1  301.0  2.370  0.070  2.530  0.070\n",
      "14     NaN     1  325.0  2.270  0.070  2.400  0.070\n",
      "15     NaN     1  340.0  2.060  0.060  2.180  0.060\n",
      "16     NaN     1  350.0  1.190  0.030  1.230  0.030\n",
      "17     NaN     1  360.0  0.373  0.013  0.413  0.014\n",
      "18     NaN     1  370.0  0.093  0.004  0.132  0.005\n",
      "19     NaN     1  380.0  0.079  0.004  0.076  0.004\n",
      "20     NaN     1  390.0  0.050  0.003  0.075  0.004\n",
      "21     NaN     1  400.0  0.048  0.003  0.050  0.003\n",
      "22     NaN     1  450.0  0.029  0.003  0.037  0.003\n",
      "23     NaN     1  500.0  0.016  0.002  0.020  0.002\n",
      "24     NaN     1  600.0  0.012  0.002  0.012  0.002\n",
      "25     NaN    10  201.0  2.950  0.080  2.950  0.080\n",
      "26     NaN    10  241.0  2.600  0.070  2.640  0.070\n",
      "27     NaN    10  271.0  2.500  0.070  2.630  0.070\n",
      "28     NaN    10  291.0  2.100  0.060  2.180  0.060\n",
      "29     NaN    10  301.0  1.900  0.060  1.920  0.060\n",
      "30     NaN    10  315.0  1.210  0.030  1.240  0.030\n",
      "31     NaN    10  325.0  0.812  0.026  1.000  0.020\n",
      "32     NaN    10  330.0  0.452  0.020  0.765  0.026\n",
      "33     NaN    10  340.0  0.182  0.006  0.161  0.006\n",
      "34     NaN   100  171.0  2.590  0.070  2.860  0.070\n",
      "35     NaN   100  213.0  2.510  0.070  2.580  0.070\n",
      "36     NaN   100  241.0  2.230  0.070  2.370  0.070\n",
      "37     NaN   100  261.0  2.010  0.060  2.140  0.060\n",
      "38     NaN   100  271.0  1.750  0.060  1.900  0.060\n",
      "39     NaN   100  281.0  1.360  0.030  1.310  0.030\n",
      "40     NaN   100  291.0  0.671  0.024  0.657  0.024\n",
      "41     NaN   100  301.0  0.182  0.006  0.191  0.006\n",
      "42     NaN   100  310.0  0.100  0.005  0.050  0.003\n",
      "43     NaN  1000  152.0  2.770  0.070  2.830  0.070\n",
      "44     NaN  1000  186.0  2.420  0.070  2.780  0.070\n",
      "45     NaN  1000  213.0  2.310  0.070  2.460  0.070\n",
      "46     NaN  1000  231.0  1.900  0.060  2.060  0.060\n",
      "47     NaN  1000  241.0  1.850  0.060  1.950  0.060\n",
      "48     NaN  1000  250.0  1.720  0.040  1.790  0.060\n",
      "49     NaN  1000  261.0  1.260  0.030  1.230  0.030\n",
      "50     NaN  1000  271.0  0.493  0.021  0.406  0.019\n",
      "51     NaN  1000  281.0  0.043  0.003  0.072  0.004\n"
     ]
    }
   ],
   "source": [
    "import pandas as pd\n",
    "\n",
    "# Reading Tello et al. data\n",
    "df = pd.read_csv('telloData.txt', sep=\"\\\\s+\", engine='python')\n",
    "df = df.apply(pd.to_numeric, errors='coerce')\n",
    "\n",
    "# Sample, time, temperature, rho, urho\n",
    "df = df.iloc[:, [0, 1, 2, 5, 6, 13, 14]]\n",
    "print(df)\n"
   ]
  },
  {
   "cell_type": "code",
   "execution_count": 136,
   "id": "02b1d0ee-e714-4b6d-ace2-abf704c6117e",
   "metadata": {},
   "outputs": [],
   "source": [
    "# Durango Basal\n",
    "dfDurangoB = df.iloc[0:9, [0, 1, 2, 3, 4]]\n",
    "\n",
    "data = dfDurangoB\n",
    "\n",
    "rho0 = data['RhoB'].iloc[0]\n",
    "\n",
    "rhos = data['RhoB']/rho0\n",
    "\n",
    "tempos = data['Time']*3600\n"
   ]
  },
  {
   "cell_type": "code",
   "execution_count": 137,
   "id": "82ff78e7-4707-4df9-a148-70c4adaaa516",
   "metadata": {},
   "outputs": [
    {
     "data": {
      "text/plain": [
       "0    3600\n",
       "1    3600\n",
       "2    3600\n",
       "3    3600\n",
       "4    3600\n",
       "5    3600\n",
       "6    3600\n",
       "7    3600\n",
       "8    3600\n",
       "Name: Time, dtype: int64"
      ]
     },
     "execution_count": 137,
     "metadata": {},
     "output_type": "execute_result"
    }
   ],
   "source": [
    "tempos"
   ]
  }
 ],
 "metadata": {
  "kernelspec": {
   "display_name": "Python 3 (ipykernel)",
   "language": "python",
   "name": "python3"
  },
  "language_info": {
   "codemirror_mode": {
    "name": "ipython",
    "version": 3
   },
   "file_extension": ".py",
   "mimetype": "text/x-python",
   "name": "python",
   "nbconvert_exporter": "python",
   "pygments_lexer": "ipython3",
   "version": "3.13.0"
  }
 },
 "nbformat": 4,
 "nbformat_minor": 5
}
